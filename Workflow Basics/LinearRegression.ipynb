{
 "cells": [
  {
   "cell_type": "code",
   "execution_count": 41,
   "id": "51f2f074",
   "metadata": {},
   "outputs": [
    {
     "name": "stdout",
     "output_type": "stream",
     "text": [
      "Using device: cuda\n"
     ]
    },
    {
     "data": {
      "text/plain": [
       "'2.7.1+cu128'"
      ]
     },
     "execution_count": 41,
     "metadata": {},
     "output_type": "execute_result"
    }
   ],
   "source": [
    "import torch\n",
    "import torch.nn as nn\n",
    "import matplotlib.pyplot as plt\n",
    "\n",
    "%matplotlib inline\n",
    "\n",
    "# Setup device agnostic code\n",
    "device = \"cuda\" if torch.cuda.is_available() else \"cpu\"\n",
    "print(f\"Using device: {device}\")\n",
    "\n",
    "__torch_version__ = torch.__version__\n",
    "__torch_version__ "
   ]
  },
  {
   "cell_type": "code",
   "execution_count": 2,
   "id": "79262d2d",
   "metadata": {},
   "outputs": [
    {
     "data": {
      "text/plain": [
       "torch.Size([50, 1])"
      ]
     },
     "execution_count": 2,
     "metadata": {},
     "output_type": "execute_result"
    }
   ],
   "source": [
    "W = .7\n",
    "B = .2\n",
    "\n",
    "X = torch.arange(0,1,0.02).unsqueeze_(1)\n",
    "X.shape"
   ]
  },
  {
   "cell_type": "code",
   "execution_count": 3,
   "id": "9145db98",
   "metadata": {},
   "outputs": [],
   "source": [
    "Y = W * X + B\n"
   ]
  },
  {
   "cell_type": "code",
   "execution_count": 4,
   "id": "216afee5",
   "metadata": {},
   "outputs": [
    {
     "data": {
      "text/plain": [
       "torch.Size([50, 1])"
      ]
     },
     "execution_count": 4,
     "metadata": {},
     "output_type": "execute_result"
    }
   ],
   "source": [
    "Y.shape"
   ]
  },
  {
   "cell_type": "markdown",
   "id": "a536424f",
   "metadata": {},
   "source": [
    "### Data Split"
   ]
  },
  {
   "cell_type": "code",
   "execution_count": 5,
   "id": "c1309897",
   "metadata": {},
   "outputs": [],
   "source": [
    "split = int(0.8 * len(X))\n",
    "X_train, Y_train = X[:split], Y[:split]\n",
    "X_test, Y_test = X[split:], Y[split:]"
   ]
  },
  {
   "cell_type": "markdown",
   "id": "c9445848",
   "metadata": {},
   "source": [
    "### Data visualize"
   ]
  },
  {
   "cell_type": "code",
   "execution_count": 6,
   "id": "d0e8acde",
   "metadata": {},
   "outputs": [],
   "source": [
    "def visualze_data(X_train = X_train, Y_train = Y_train, X_test = X_test, Y_test = Y_test, Pred=None):\n",
    "    plt.scatter(X_train.numpy(), Y_train.numpy(), label = \"Training Data\", c=\"b\")\n",
    "    plt.scatter(X_test.numpy(), Y_test.numpy(), label = \"Test Data\", c=\"r\")\n",
    "    if Pred is not None:\n",
    "    # Plot the predictions in red (predictions were made on the test data)\n",
    "        plt.scatter(X_test.numpy(), Pred.numpy(), c=\"r\", s=4, label=\"Predictions\")\n",
    "    plt.title(\"Training and Testing Data Visualized\")\n",
    "    plt.xlabel('X')\n",
    "    plt.ylabel('Y')\n",
    "    plt.show()\n"
   ]
  },
  {
   "cell_type": "code",
   "execution_count": 7,
   "id": "98ca3c4f",
   "metadata": {},
   "outputs": [
    {
     "data": {
      "image/png": "[encoded data removed]",
      "text/plain": [
       "<Figure size 640x480 with 1 Axes>"
      ]
     },
     "metadata": {},
     "output_type": "display_data"
    }
   ],
   "source": [
    "visualze_data(X_train, Y_train, X_test, Y_test)"
   ]
  },
  {
   "cell_type": "markdown",
   "id": "3a4d92d1",
   "metadata": {},
   "source": [
    "### Build the model"
   ]
  },
  {
   "cell_type": "code",
   "execution_count": 8,
   "id": "720ecab0",
   "metadata": {},
   "outputs": [],
   "source": [
    "class LinearRegression(nn.Module):\n",
    "    def __init__(self):\n",
    "\n",
    "        super().__init__() # inintialize the parent class nn.Module\n",
    "\n",
    "        # tells PyTorch that these are trainable parameters of the model,\n",
    "        # req_grad is set to true by default\n",
    "        self.weights = nn.Parameter(torch.randn(1, 1, dtype=torch.float32))\n",
    "        self.bias = nn.Parameter(torch.randn(1, 1, dtype=torch.float32))\n",
    "\n",
    "    def forward(self, X):\n",
    "        return self.weights * X + self.bias"
   ]
  },
  {
   "cell_type": "code",
   "execution_count": 9,
   "id": "d6ae5550",
   "metadata": {},
   "outputs": [
    {
     "data": {
      "text/plain": [
       "[Parameter containing:\n",
       " tensor([[0.3367]], requires_grad=True),\n",
       " Parameter containing:\n",
       " tensor([[0.1288]], requires_grad=True)]"
      ]
     },
     "execution_count": 9,
     "metadata": {},
     "output_type": "execute_result"
    }
   ],
   "source": [
    "torch.manual_seed(42)\n",
    "\n",
    "model = LinearRegression()\n",
    "\n",
    "list(model.parameters())"
   ]
  },
  {
   "cell_type": "code",
   "execution_count": 10,
   "id": "70879987",
   "metadata": {},
   "outputs": [
    {
     "data": {
      "text/plain": [
       "OrderedDict([('weights', tensor([[0.3367]])), ('bias', tensor([[0.1288]]))])"
      ]
     },
     "execution_count": 10,
     "metadata": {},
     "output_type": "execute_result"
    }
   ],
   "source": [
    "model.state_dict()      # what the model contains"
   ]
  },
  {
   "cell_type": "code",
   "execution_count": 11,
   "id": "fddc14aa",
   "metadata": {},
   "outputs": [],
   "source": [
    "# make predictions\n",
    "with torch.inference_mode():  # turns off gradient tracking\n",
    "    y_preds = model(X_test)"
   ]
  },
  {
   "cell_type": "code",
   "execution_count": 13,
   "id": "9def0267",
   "metadata": {},
   "outputs": [
    {
     "data": {
      "image/png": "[encoded data removed]",
      "text/plain": [
       "<Figure size 640x480 with 1 Axes>"
      ]
     },
     "metadata": {},
     "output_type": "display_data"
    }
   ],
   "source": [
    "visualze_data(Pred=y_preds)"
   ]
  },
  {
   "cell_type": "code",
   "execution_count": 14,
   "id": "c4442001",
   "metadata": {},
   "outputs": [
    {
     "data": {
      "text/plain": [
       "OrderedDict([('weights', tensor([[0.3367]])), ('bias', tensor([[0.1288]]))])"
      ]
     },
     "execution_count": 14,
     "metadata": {},
     "output_type": "execute_result"
    }
   ],
   "source": [
    "model.state_dict()"
   ]
  },
  {
   "cell_type": "markdown",
   "id": "39e68612",
   "metadata": {},
   "source": [
    "### Build with nn.linear"
   ]
  },
  {
   "cell_type": "code",
   "execution_count": 42,
   "id": "fe6d341e",
   "metadata": {},
   "outputs": [],
   "source": [
    "class linear_reg_nn(nn.Module):\n",
    "    def __init__(self):\n",
    "        super().__init__()\n",
    "        # since our model has one input and one output feature\n",
    "        # includes w and bias\n",
    "        self.linear_layer  = nn.Linear(in_features=1, out_features=1)\n",
    "\n",
    "    def forward(self, x):\n",
    "        return self.linear_layer(x)"
   ]
  },
  {
   "cell_type": "code",
   "execution_count": 44,
   "id": "a3d4cd66",
   "metadata": {},
   "outputs": [
    {
     "data": {
      "text/plain": [
       "[Parameter containing:\n",
       " tensor([[-0.4869]], requires_grad=True),\n",
       " Parameter containing:\n",
       " tensor([0.5873], requires_grad=True)]"
      ]
     },
     "execution_count": 44,
     "metadata": {},
     "output_type": "execute_result"
    }
   ],
   "source": [
    "model_2 = linear_reg_nn()\n",
    "list(model_2.parameters())"
   ]
  },
  {
   "cell_type": "code",
   "execution_count": 45,
   "id": "eccaf840",
   "metadata": {},
   "outputs": [
    {
     "data": {
      "text/plain": [
       "OrderedDict([('linear_layer.weight', tensor([[-0.4869]])),\n",
       "             ('linear_layer.bias', tensor([0.5873]))])"
      ]
     },
     "execution_count": 45,
     "metadata": {},
     "output_type": "execute_result"
    }
   ],
   "source": [
    "model_2.state_dict()"
   ]
  },
  {
   "cell_type": "markdown",
   "id": "60c53bda",
   "metadata": {},
   "source": [
    "## Training Loop"
   ]
  },
  {
   "cell_type": "code",
   "execution_count": 31,
   "id": "0a0fbd06",
   "metadata": {},
   "outputs": [],
   "source": [
    "loss_fn_1 = nn.MSELoss()\n",
    "loss_fn_2 = nn.L1Loss()\n",
    "\n",
    "optimizer = torch.optim.SGD(model.parameters(), lr=.01)"
   ]
  },
  {
   "cell_type": "code",
   "execution_count": 32,
   "id": "4adef071",
   "metadata": {},
   "outputs": [
    {
     "name": "stdout",
     "output_type": "stream",
     "text": [
      "Epoch: 0 | Train Loss: 0.0400 | Test Loss: 0.0693\n",
      "Model state dict: OrderedDict([('weights', tensor([[0.6185]])), ('bias', tensor([[0.2033]]))])\n",
      "Epoch: 10 | Train Loss: 0.0116 | Test Loss: 0.0268\n",
      "Model state dict: OrderedDict([('weights', tensor([[0.6437]])), ('bias', tensor([[0.2233]]))])\n",
      "Epoch: 20 | Train Loss: 0.0082 | Test Loss: 0.0185\n",
      "Model state dict: OrderedDict([('weights', tensor([[0.6609]])), ('bias', tensor([[0.2163]]))])\n",
      "Epoch: 30 | Train Loss: 0.0048 | Test Loss: 0.0102\n",
      "Model state dict: OrderedDict([('weights', tensor([[0.6780]])), ('bias', tensor([[0.2093]]))])\n",
      "Epoch: 40 | Train Loss: 0.0014 | Test Loss: 0.0048\n",
      "Model state dict: OrderedDict([('weights', tensor([[0.6943]])), ('bias', tensor([[0.2003]]))])\n",
      "Epoch: 50 | Train Loss: 0.0081 | Test Loss: 0.0063\n",
      "Model state dict: OrderedDict([('weights', tensor([[0.6942]])), ('bias', tensor([[0.1988]]))])\n",
      "Epoch: 60 | Train Loss: 0.0081 | Test Loss: 0.0063\n",
      "Model state dict: OrderedDict([('weights', tensor([[0.6942]])), ('bias', tensor([[0.1988]]))])\n",
      "Epoch: 70 | Train Loss: 0.0081 | Test Loss: 0.0063\n",
      "Model state dict: OrderedDict([('weights', tensor([[0.6942]])), ('bias', tensor([[0.1988]]))])\n",
      "Epoch: 80 | Train Loss: 0.0081 | Test Loss: 0.0063\n",
      "Model state dict: OrderedDict([('weights', tensor([[0.6942]])), ('bias', tensor([[0.1988]]))])\n",
      "Epoch: 90 | Train Loss: 0.0081 | Test Loss: 0.0063\n",
      "Model state dict: OrderedDict([('weights', tensor([[0.6942]])), ('bias', tensor([[0.1988]]))])\n"
     ]
    }
   ],
   "source": [
    "torch.manual_seed(42)\n",
    "\n",
    "epochs = 100\n",
    "\n",
    "train_l = []\n",
    "test_l = []\n",
    "epoch_count = []\n",
    "\n",
    "for epoch in range(epochs):\n",
    "\n",
    "# model in training mode\n",
    "    model.train()\n",
    "    Y_pred = model(X_train) \n",
    "\n",
    "    train_loss = loss_fn_2(Y_train, Y_pred)\n",
    "    \n",
    "    # Clears old gradients stored in each parameter.\n",
    "    optimizer.zero_grad()\n",
    "    train_loss.backward()\n",
    "    # updates the parameter values\n",
    "    optimizer.step()\n",
    "\n",
    "# model in eval mode\n",
    "    model.eval()\n",
    "\n",
    "    with torch.inference_mode():\n",
    "        Y_pred = model(X_test)\n",
    "\n",
    "        test_loss = loss_fn_2(Y_test, Y_pred)\n",
    "\n",
    "        if epoch % 10 == 0:\n",
    "            print(f\"Epoch: {epoch} | Train Loss: {train_loss:.4f} | Test Loss: {test_loss:.4f}\")\n",
    "            print(f\"Model state dict: {model.state_dict()}\")\n",
    "            epoch_count.append(epoch)\n",
    "\n",
    "            # convert to numpy the copy of the tensor that is disconnected \n",
    "            # from the computation graph.\n",
    "            # for scaler, we can also use .item() instead of .detach().numpy()\n",
    "            train_l.append(train_loss.detach().numpy())\n",
    "            test_l.append(test_loss.detach().numpy())\n"
   ]
  },
  {
   "cell_type": "code",
   "execution_count": 34,
   "id": "3c4db508",
   "metadata": {},
   "outputs": [
    {
     "data": {
      "image/png": "[encoded data removed]",
      "text/plain": [
       "<Figure size 640x480 with 1 Axes>"
      ]
     },
     "metadata": {},
     "output_type": "display_data"
    }
   ],
   "source": [
    "plt.plot(epoch_count, train_l, label='Train Loss')\n",
    "plt.plot(epoch_count, test_l, label='Test Loss')\n",
    "plt.legend()\n",
    "plt.show()"
   ]
  },
  {
   "cell_type": "code",
   "execution_count": 35,
   "id": "368e11dd",
   "metadata": {},
   "outputs": [
    {
     "name": "stdout",
     "output_type": "stream",
     "text": [
      "The model learned the following values for weights and bias:\n",
      "OrderedDict([('weights', tensor([[0.6981]])), ('bias', tensor([[0.2088]]))])\n",
      "\n",
      "And the original values for weights and bias are:\n",
      "weights: 0.7, bias: 0.2\n"
     ]
    }
   ],
   "source": [
    "# Find our model's learned parameters\n",
    "print(\"The model learned the following values for weights and bias:\")\n",
    "print(model.state_dict())\n",
    "print(\"\\nAnd the original values for weights and bias are:\")\n",
    "print(f\"weights: {W}, bias: {B}\")"
   ]
  },
  {
   "cell_type": "markdown",
   "id": "bd45b8d6",
   "metadata": {},
   "source": [
    "### Make predictions"
   ]
  },
  {
   "cell_type": "code",
   "execution_count": 36,
   "id": "77af5632",
   "metadata": {},
   "outputs": [
    {
     "data": {
      "image/png": "[encoded data removed]",
      "text/plain": [
       "<Figure size 640x480 with 1 Axes>"
      ]
     },
     "metadata": {},
     "output_type": "display_data"
    }
   ],
   "source": [
    "model.eval()\n",
    "with torch.inference_mode():\n",
    "    y_p = model(X_test)\n",
    "\n",
    "visualze_data(Pred=y_p)"
   ]
  },
  {
   "cell_type": "markdown",
   "id": "3b90902f",
   "metadata": {},
   "source": [
    "### Saving models"
   ]
  },
  {
   "cell_type": "code",
   "execution_count": 37,
   "id": "15d3a0ea",
   "metadata": {},
   "outputs": [
    {
     "name": "stdout",
     "output_type": "stream",
     "text": [
      "Saving model to: models\\linear_regression_model.pth\n"
     ]
    }
   ],
   "source": [
    "from pathlib import Path\n",
    "\n",
    "model_dir = Path(\"models\")\n",
    "model_dir.mkdir(parents=True, exist_ok=True)\n",
    "\n",
    "model_path = model_dir / \"linear_regression_model.pth\"\n",
    "print(f\"Saving model to: {model_path}\")\n",
    "\n",
    "# save only the parameters to make things more flexible\n",
    "# we can also save entire model using torch.save(model, model_path) but\n",
    "# that is not reccommended as it might break due to change in file structure\n",
    "torch.save(model.state_dict(), model_path) "
   ]
  },
  {
   "cell_type": "markdown",
   "id": "d8a8e5e1",
   "metadata": {},
   "source": [
    "### Load model"
   ]
  },
  {
   "cell_type": "code",
   "execution_count": 38,
   "id": "2b61fb78",
   "metadata": {},
   "outputs": [
    {
     "data": {
      "text/plain": [
       "<All keys matched successfully>"
      ]
     },
     "execution_count": 38,
     "metadata": {},
     "output_type": "execute_result"
    }
   ],
   "source": [
    "model = LinearRegression()      # We instantiate the model again because what we saved \n",
    "                                # are just the learned weights, not the full model class definition.\n",
    "model.load_state_dict(torch.load(model_path))"
   ]
  },
  {
   "cell_type": "code",
   "execution_count": 39,
   "id": "ba178600",
   "metadata": {},
   "outputs": [
    {
     "data": {
      "text/plain": [
       "LinearRegression()"
      ]
     },
     "execution_count": 39,
     "metadata": {},
     "output_type": "execute_result"
    }
   ],
   "source": [
    "model.eval()"
   ]
  },
  {
   "cell_type": "code",
   "execution_count": 40,
   "id": "e23dc979",
   "metadata": {},
   "outputs": [
    {
     "data": {
      "text/plain": [
       "OrderedDict([('weights', tensor([[0.6981]])), ('bias', tensor([[0.2088]]))])"
      ]
     },
     "execution_count": 40,
     "metadata": {},
     "output_type": "execute_result"
    }
   ],
   "source": [
    "model.state_dict()"
   ]
  },
  {
   "cell_type": "code",
   "execution_count": null,
   "id": "4d88c817",
   "metadata": {},
   "outputs": [],
   "source": []
  }
 ],
 "metadata": {
  "kernelspec": {
   "display_name": "DL",
   "language": "python",
   "name": "python3"
  },
  "language_info": {
   "codemirror_mode": {
    "name": "ipython",
    "version": 3
   },
   "file_extension": ".py",
   "mimetype": "text/x-python",
   "name": "python",
   "nbconvert_exporter": "python",
   "pygments_lexer": "ipython3",
   "version": "3.11.0"
  }
 },
 "nbformat": 4,
 "nbformat_minor": 5
}
