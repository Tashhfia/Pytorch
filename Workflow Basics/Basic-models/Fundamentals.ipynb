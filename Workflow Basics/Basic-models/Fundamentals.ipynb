{
 "cells": [
  {
   "cell_type": "code",
   "execution_count": 1,
   "id": "526aa3e3",
   "metadata": {},
   "outputs": [
    {
     "data": {
      "text/plain": [
       "'2.7.1+cu128'"
      ]
     },
     "execution_count": 1,
     "metadata": {},
     "output_type": "execute_result"
    }
   ],
   "source": [
    "import torch\n",
    "import numpy as np\n",
    "import matplotlib.pyplot as plt\n",
    "import pandas as pd\n",
    "torch.__version__\n"
   ]
  },
  {
   "cell_type": "code",
   "execution_count": 3,
   "id": "dd281140",
   "metadata": {},
   "outputs": [
    {
     "data": {
      "text/plain": [
       "1"
      ]
     },
     "execution_count": 3,
     "metadata": {},
     "output_type": "execute_result"
    }
   ],
   "source": [
    "torch.cuda.is_available()\n",
    "torch.cuda.device_count()"
   ]
  },
  {
   "cell_type": "markdown",
   "id": "d9ad62f8",
   "metadata": {},
   "source": [
    "### Understanding Tensors"
   ]
  },
  {
   "cell_type": "code",
   "execution_count": 4,
   "id": "5f0656cb",
   "metadata": {},
   "outputs": [
    {
     "name": "stdout",
     "output_type": "stream",
     "text": [
      "The tensor is of 0 dim\n"
     ]
    }
   ],
   "source": [
    "# scalar - 0 dim tensor\n",
    "scalar = torch.tensor(6)\n",
    "print(f\"The tensor is of {scalar.ndim} dim\")"
   ]
  },
  {
   "cell_type": "code",
   "execution_count": 5,
   "id": "c5b571df",
   "metadata": {},
   "outputs": [
    {
     "data": {
      "text/plain": [
       "6"
      ]
     },
     "execution_count": 5,
     "metadata": {},
     "output_type": "execute_result"
    }
   ],
   "source": [
    "scalar.item() # retrieves the number"
   ]
  },
  {
   "cell_type": "code",
   "execution_count": 6,
   "id": "62105fd3",
   "metadata": {},
   "outputs": [
    {
     "data": {
      "text/plain": [
       "torch.Size([2])"
      ]
     },
     "execution_count": 6,
     "metadata": {},
     "output_type": "execute_result"
    }
   ],
   "source": [
    "vector = torch.tensor([2,3])\n",
    "vector.shape         # hint: the num of dims is the num of brackets"
   ]
  },
  {
   "cell_type": "code",
   "execution_count": 7,
   "id": "e930d9de",
   "metadata": {},
   "outputs": [
    {
     "data": {
      "text/plain": [
       "torch.Size([2, 2])"
      ]
     },
     "execution_count": 7,
     "metadata": {},
     "output_type": "execute_result"
    }
   ],
   "source": [
    "mat = torch.tensor([[1,2],\n",
    "                    [3,4]])\n",
    "mat.shape"
   ]
  },
  {
   "cell_type": "code",
   "execution_count": 8,
   "id": "d839ff8e",
   "metadata": {},
   "outputs": [
    {
     "data": {
      "text/plain": [
       "torch.Size([1, 2, 3])"
      ]
     },
     "execution_count": 8,
     "metadata": {},
     "output_type": "execute_result"
    }
   ],
   "source": [
    "ten = torch.tensor([[[1, 2, 2],\n",
    "                    [3, 4, 3]]])\n",
    "ten.shape  # goes from outer to inner"
   ]
  },
  {
   "cell_type": "markdown",
   "id": "99a978d7",
   "metadata": {},
   "source": [
    "Reminder: Tensor is an n dimsional array of numbers. So matrix, vectors, scalars are also tensors of different dims"
   ]
  },
  {
   "cell_type": "code",
   "execution_count": 9,
   "id": "b143fc44",
   "metadata": {},
   "outputs": [
    {
     "data": {
      "text/plain": [
       "tensor([[[1, 2, 2],\n",
       "         [3, 4, 3]]])"
      ]
     },
     "execution_count": 9,
     "metadata": {},
     "output_type": "execute_result"
    }
   ],
   "source": [
    "ten"
   ]
  },
  {
   "cell_type": "code",
   "execution_count": 10,
   "id": "f796ff14",
   "metadata": {},
   "outputs": [
    {
     "data": {
      "text/plain": [
       "tensor([[0.3736, 0.6964, 0.1051],\n",
       "        [0.5714, 0.4450, 0.9078],\n",
       "        [0.6610, 0.4604, 0.4544]])"
      ]
     },
     "execution_count": 10,
     "metadata": {},
     "output_type": "execute_result"
    }
   ],
   "source": [
    "# creating a random tensor\n",
    "rand_T = torch.rand((3,3))\n",
    "rand_T"
   ]
  },
  {
   "cell_type": "code",
   "execution_count": 41,
   "id": "8e887aeb",
   "metadata": {},
   "outputs": [
    {
     "data": {
      "text/plain": [
       "tensor([[[0.9107, 0.6741, 0.5522],\n",
       "         [0.9034, 0.7437, 0.1018],\n",
       "         [0.2668, 0.6009, 0.3164],\n",
       "         ...,\n",
       "         [0.5212, 0.6690, 0.1890],\n",
       "         [0.6228, 0.0231, 0.1559],\n",
       "         [0.3312, 0.6335, 0.4917]],\n",
       "\n",
       "        [[0.4033, 0.2725, 0.2969],\n",
       "         [0.2007, 0.3289, 0.3674],\n",
       "         [0.4146, 0.9103, 0.1782],\n",
       "         ...,\n",
       "         [0.5753, 0.9120, 0.8689],\n",
       "         [0.2940, 0.9637, 0.3804],\n",
       "         [0.1678, 0.6532, 0.7502]],\n",
       "\n",
       "        [[0.2731, 0.5788, 0.4707],\n",
       "         [0.3459, 0.7599, 0.9259],\n",
       "         [0.2881, 0.3427, 0.4572],\n",
       "         ...,\n",
       "         [0.6316, 0.1327, 0.4598],\n",
       "         [0.8130, 0.1432, 0.9286],\n",
       "         [0.0583, 0.6763, 0.8814]],\n",
       "\n",
       "        ...,\n",
       "\n",
       "        [[0.7460, 0.6659, 0.1520],\n",
       "         [0.8776, 0.4305, 0.3846],\n",
       "         [0.0848, 0.9501, 0.2881],\n",
       "         ...,\n",
       "         [0.7392, 0.9697, 0.3718],\n",
       "         [0.5834, 0.9700, 0.3800],\n",
       "         [0.5916, 0.1115, 0.6508]],\n",
       "\n",
       "        [[0.7291, 0.2762, 0.2910],\n",
       "         [0.7094, 0.4959, 0.0817],\n",
       "         [0.0359, 0.6976, 0.6975],\n",
       "         ...,\n",
       "         [0.4290, 0.6711, 0.9657],\n",
       "         [0.5441, 0.9743, 0.0852],\n",
       "         [0.4557, 0.2134, 0.3429]],\n",
       "\n",
       "        [[0.4168, 0.0535, 0.9486],\n",
       "         [0.0025, 0.4244, 0.4963],\n",
       "         [0.4601, 0.9000, 0.8902],\n",
       "         ...,\n",
       "         [0.3129, 0.6651, 0.7285],\n",
       "         [0.3009, 0.0355, 0.7885],\n",
       "         [0.2085, 0.0850, 0.2103]]])"
      ]
     },
     "execution_count": 41,
     "metadata": {},
     "output_type": "execute_result"
    }
   ],
   "source": [
    "IM = torch.rand((224, 224, 3))\n",
    "IM"
   ]
  },
  {
   "cell_type": "code",
   "execution_count": 52,
   "id": "3f0e9df9",
   "metadata": {},
   "outputs": [
    {
     "name": "stdout",
     "output_type": "stream",
     "text": [
      "tensor([  0,  20,  40,  60,  80, 100])\n"
     ]
    }
   ],
   "source": [
    "tem = torch.arange(0, 101, 20, dtype = None)\n",
    "print(tem)\n",
    "co = torch.ones_like(tem)"
   ]
  },
  {
   "cell_type": "code",
   "execution_count": 51,
   "id": "02d98760",
   "metadata": {},
   "outputs": [
    {
     "data": {
      "text/plain": [
       "tensor([1, 1, 1, 1, 1, 1])"
      ]
     },
     "execution_count": 51,
     "metadata": {},
     "output_type": "execute_result"
    }
   ],
   "source": [
    "co"
   ]
  },
  {
   "cell_type": "markdown",
   "id": "41cbce93",
   "metadata": {},
   "source": [
    "1. torch.reshape(input, shape)\tReshapes input to shape (if compatible), can also use torch.Tensor.reshape().\n",
    "\n",
    "2. Tensor.view(shape)\tReturns a view of the original tensor in a different shape but shares the same data as the original tensor.\n",
    "\n",
    "3. torch.stack(tensors, dim=0)\tConcatenates a sequence of tensors along a new dimension (dim), all tensors must be same size.\n",
    "\n",
    "4. torch.squeeze(input)\tSqueezes input to remove all the dimenions with value 1.\n",
    "\n",
    "5. torch.unsqueeze(input, dim)\tReturns input with a dimension value of 1 added at dim.\n",
    "torch.permute(input, dims)\n",
    "\n",
    "6. torch.permute(input, dims) Rearrange the axis order"
   ]
  },
  {
   "cell_type": "code",
   "execution_count": 85,
   "id": "d5c9f826",
   "metadata": {},
   "outputs": [
    {
     "data": {
      "text/plain": [
       "torch.Size([10])"
      ]
     },
     "execution_count": 85,
     "metadata": {},
     "output_type": "execute_result"
    }
   ],
   "source": [
    "x = torch.arange(1, 20, 2)\n",
    "x.shape"
   ]
  },
  {
   "cell_type": "code",
   "execution_count": 88,
   "id": "ac31fb80",
   "metadata": {},
   "outputs": [],
   "source": [
    "x = x.reshape(5,2)"
   ]
  },
  {
   "cell_type": "code",
   "execution_count": 73,
   "id": "3f7bdb32",
   "metadata": {},
   "outputs": [
    {
     "data": {
      "text/plain": [
       "tensor([[ 1],\n",
       "        [ 3],\n",
       "        [ 5],\n",
       "        [ 7],\n",
       "        [ 9],\n",
       "        [11],\n",
       "        [13],\n",
       "        [15],\n",
       "        [17],\n",
       "        [19]])"
      ]
     },
     "execution_count": 73,
     "metadata": {},
     "output_type": "execute_result"
    }
   ],
   "source": [
    "z = x.view(10,1)        # z is just a new view of x and changing z changes x\n",
    "z"
   ]
  },
  {
   "cell_type": "code",
   "execution_count": 74,
   "id": "cefe2865",
   "metadata": {},
   "outputs": [
    {
     "name": "stdout",
     "output_type": "stream",
     "text": [
      "Before squeeze the dims was torch.Size([10, 1])\n",
      "after sqeeze the dims: torch.Size([10]), the singles dims were removed\n"
     ]
    }
   ],
   "source": [
    "print(f\"Before squeeze the dims was {z.shape}\")\n",
    "\n",
    "k = z.squeeze()     # removes single dims\n",
    "print(f\"after sqeeze the dims: {k.shape}, the singles dims were removed\")"
   ]
  },
  {
   "cell_type": "code",
   "execution_count": 94,
   "id": "f02aae3b",
   "metadata": {},
   "outputs": [
    {
     "name": "stdout",
     "output_type": "stream",
     "text": [
      "Before permuting tensor([[ 1,  3],\n",
      "        [ 5,  7],\n",
      "        [ 9, 11],\n",
      "        [13, 15],\n",
      "        [17, 19]])\n",
      "\n",
      "after permuting tensor([[ 1,  5,  9, 13, 17],\n",
      "        [ 3,  7, 11, 15, 19]])\n"
     ]
    }
   ],
   "source": [
    "print(f\"Before permuting {x}\\n\")\n",
    "\n",
    "\n",
    "print(f\"after permuting {x.permute(1,0)}\")"
   ]
  },
  {
   "cell_type": "code",
   "execution_count": null,
   "id": "346516c7",
   "metadata": {},
   "outputs": [
    {
     "data": {
      "text/plain": [
       "tensor([[ 1,  5,  9, 13, 17],\n",
       "        [ 3,  7, 11, 15, 19]])"
      ]
     },
     "execution_count": 90,
     "metadata": {},
     "output_type": "execute_result"
    }
   ],
   "source": []
  },
  {
   "cell_type": "code",
   "execution_count": null,
   "id": "2bb823b3",
   "metadata": {},
   "outputs": [],
   "source": []
  },
  {
   "cell_type": "markdown",
   "id": "b67773a1",
   "metadata": {},
   "source": [
    "### Practise"
   ]
  },
  {
   "cell_type": "code",
   "execution_count": 106,
   "id": "8ae34721",
   "metadata": {},
   "outputs": [],
   "source": [
    "torch.manual_seed(seed= 0)\n",
    "\n",
    "\n",
    "# Create a random tensor with shape (7, 7)\n",
    "T1 = torch.rand((7,7))\n",
    "T1.shape\n",
    "\n",
    "T2 = torch.rand((1,7))"
   ]
  },
  {
   "cell_type": "code",
   "execution_count": 107,
   "id": "36a9bc52",
   "metadata": {},
   "outputs": [],
   "source": [
    "mm = torch.matmul(T1, T2.T)"
   ]
  },
  {
   "cell_type": "code",
   "execution_count": 108,
   "id": "245e730f",
   "metadata": {},
   "outputs": [
    {
     "data": {
      "text/plain": [
       "tensor([[1.8542],\n",
       "        [1.9611],\n",
       "        [2.2884],\n",
       "        [3.0481],\n",
       "        [1.7067],\n",
       "        [2.5290],\n",
       "        [1.7989]])"
      ]
     },
     "execution_count": 108,
     "metadata": {},
     "output_type": "execute_result"
    }
   ],
   "source": [
    "mm"
   ]
  },
  {
   "cell_type": "code",
   "execution_count": 120,
   "id": "fac04417",
   "metadata": {},
   "outputs": [
    {
     "name": "stdout",
     "output_type": "stream",
     "text": [
      "The mm: tensor([[0.3647, 0.4709],\n",
      "        [0.5184, 0.5617]], device='cuda:0')\n"
     ]
    }
   ],
   "source": [
    "# seeding GPU\n",
    "torch.manual_seed(1234)\n",
    "\n",
    "R1 = torch.rand(size = (2,3)).to(\"cuda\")\n",
    "R2 = torch.rand((2,3)).to(\"cuda\")\n",
    "\n",
    "mm2 = torch.matmul(R1, R2.T)\n",
    "print(f\"The mm: {mm2}\")\n",
    "\n"
   ]
  },
  {
   "cell_type": "code",
   "execution_count": null,
   "id": "d1cb2cce",
   "metadata": {},
   "outputs": [
    {
     "data": {
      "text/plain": [
       "tensor(0.3647, device='cuda:0')"
      ]
     },
     "execution_count": 122,
     "metadata": {},
     "output_type": "execute_result"
    }
   ],
   "source": [
    "mm2.max()\n"
   ]
  },
  {
   "cell_type": "code",
   "execution_count": 123,
   "id": "feadf5fe",
   "metadata": {},
   "outputs": [
    {
     "data": {
      "text/plain": [
       "tensor(0, device='cuda:0')"
      ]
     },
     "execution_count": 123,
     "metadata": {},
     "output_type": "execute_result"
    }
   ],
   "source": [
    "mm2.argmin()"
   ]
  },
  {
   "cell_type": "code",
   "execution_count": 130,
   "id": "11bb7cc2",
   "metadata": {},
   "outputs": [],
   "source": [
    "torch.manual_seed(7)\n",
    "X = torch.rand((1, 1, 1, 10))\n",
    "m = X.squeeze()"
   ]
  },
  {
   "cell_type": "code",
   "execution_count": 131,
   "id": "02cddf3f",
   "metadata": {},
   "outputs": [
    {
     "data": {
      "text/plain": [
       "tensor([0.5349, 0.1988, 0.6592, 0.6569, 0.2328, 0.4251, 0.2071, 0.6297, 0.3653,\n",
       "        0.8513])"
      ]
     },
     "execution_count": 131,
     "metadata": {},
     "output_type": "execute_result"
    }
   ],
   "source": [
    "m"
   ]
  },
  {
   "cell_type": "code",
   "execution_count": 132,
   "id": "2631d5cc",
   "metadata": {},
   "outputs": [
    {
     "name": "stdout",
     "output_type": "stream",
     "text": [
      "first tensor tensor([[[[0.5349, 0.1988, 0.6592, 0.6569, 0.2328, 0.4251, 0.2071, 0.6297,\n",
      "           0.3653, 0.8513]]]]) and it's shape torch.Size([1, 1, 1, 10])\n",
      "second tensor tensor([0.5349, 0.1988, 0.6592, 0.6569, 0.2328, 0.4251, 0.2071, 0.6297, 0.3653,\n",
      "        0.8513]) and it's shape torch.Size([10])\n"
     ]
    }
   ],
   "source": [
    "print(f\"first tensor {X} and it's shape {X.shape}\")\n",
    "print(f\"second tensor {m} and it's shape {m.shape}\")"
   ]
  },
  {
   "cell_type": "markdown",
   "id": "952c3ed1",
   "metadata": {},
   "source": []
  },
  {
   "cell_type": "markdown",
   "id": "cb493f85",
   "metadata": {},
   "source": []
  }
 ],
 "metadata": {
  "kernelspec": {
   "display_name": "DL",
   "language": "python",
   "name": "python3"
  },
  "language_info": {
   "codemirror_mode": {
    "name": "ipython",
    "version": 3
   },
   "file_extension": ".py",
   "mimetype": "text/x-python",
   "name": "python",
   "nbconvert_exporter": "python",
   "pygments_lexer": "ipython3",
   "version": "3.11.0"
  }
 },
 "nbformat": 4,
 "nbformat_minor": 5
}
