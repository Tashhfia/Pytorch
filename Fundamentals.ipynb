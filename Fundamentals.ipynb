{
 "cells": [
  {
   "cell_type": "code",
   "execution_count": 4,
   "id": "526aa3e3",
   "metadata": {},
   "outputs": [
    {
     "data": {
      "text/plain": [
       "'2.7.1+cu128'"
      ]
     },
     "execution_count": 4,
     "metadata": {},
     "output_type": "execute_result"
    }
   ],
   "source": [
    "import torch\n",
    "import numpy as np\n",
    "import matplotlib.pyplot as plt\n",
    "import pandas as pd\n",
    "torch.__version__"
   ]
  },
  {
   "cell_type": "markdown",
   "id": "d9ad62f8",
   "metadata": {},
   "source": [
    "### Understanding Tensors"
   ]
  },
  {
   "cell_type": "code",
   "execution_count": null,
   "id": "5f0656cb",
   "metadata": {},
   "outputs": [
    {
     "name": "stdout",
     "output_type": "stream",
     "text": [
      "The tensor is of 0 dim but the shape is torch.Size([])\n"
     ]
    }
   ],
   "source": [
    "# scalar - 0 dim tensor\n",
    "scalar = torch.tensor(6)\n",
    "print(f\"The tensor is of {scalar.ndim} dim\")"
   ]
  },
  {
   "cell_type": "code",
   "execution_count": null,
   "id": "c5b571df",
   "metadata": {},
   "outputs": [
    {
     "data": {
      "text/plain": [
       "6"
      ]
     },
     "execution_count": 8,
     "metadata": {},
     "output_type": "execute_result"
    }
   ],
   "source": [
    "scalar.item() # retrieves the number"
   ]
  },
  {
   "cell_type": "code",
   "execution_count": 28,
   "id": "62105fd3",
   "metadata": {},
   "outputs": [
    {
     "data": {
      "text/plain": [
       "torch.Size([2])"
      ]
     },
     "execution_count": 28,
     "metadata": {},
     "output_type": "execute_result"
    }
   ],
   "source": [
    "vector = torch.tensor([2,3])\n",
    "vector.shape         # hint: the num of dims is the num of brackets"
   ]
  },
  {
   "cell_type": "code",
   "execution_count": 29,
   "id": "e930d9de",
   "metadata": {},
   "outputs": [
    {
     "data": {
      "text/plain": [
       "torch.Size([2, 2])"
      ]
     },
     "execution_count": 29,
     "metadata": {},
     "output_type": "execute_result"
    }
   ],
   "source": [
    "mat = torch.tensor([[1,2],\n",
    "                    [3,4]])\n",
    "mat.shape"
   ]
  },
  {
   "cell_type": "code",
   "execution_count": null,
   "id": "d839ff8e",
   "metadata": {},
   "outputs": [
    {
     "data": {
      "text/plain": [
       "torch.Size([1, 2, 3])"
      ]
     },
     "execution_count": 31,
     "metadata": {},
     "output_type": "execute_result"
    }
   ],
   "source": [
    "ten = torch.tensor([[[1, 2, 2],\n",
    "                    [3, 4, 3]]])\n",
    "ten.shape  # goes from outer to inner"
   ]
  },
  {
   "cell_type": "code",
   "execution_count": null,
   "id": "f796ff14",
   "metadata": {},
   "outputs": [],
   "source": []
  }
 ],
 "metadata": {
  "kernelspec": {
   "display_name": "DL",
   "language": "python",
   "name": "python3"
  },
  "language_info": {
   "codemirror_mode": {
    "name": "ipython",
    "version": 3
   },
   "file_extension": ".py",
   "mimetype": "text/x-python",
   "name": "python",
   "nbconvert_exporter": "python",
   "pygments_lexer": "ipython3",
   "version": "3.11.0"
  }
 },
 "nbformat": 4,
 "nbformat_minor": 5
}
