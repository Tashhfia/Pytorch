{
 "cells": [
  {
   "cell_type": "code",
   "execution_count": 27,
   "id": "526aa3e3",
   "metadata": {},
   "outputs": [
    {
     "data": {
      "text/plain": [
       "'2.7.1+cu128'"
      ]
     },
     "execution_count": 27,
     "metadata": {},
     "output_type": "execute_result"
    }
   ],
   "source": [
    "import torch\n",
    "import numpy as np\n",
    "import matplotlib.pyplot as plt\n",
    "import pandas as pd\n",
    "torch.__version__\n"
   ]
  },
  {
   "cell_type": "code",
   "execution_count": 28,
   "id": "dd281140",
   "metadata": {},
   "outputs": [
    {
     "data": {
      "text/plain": [
       "1"
      ]
     },
     "execution_count": 28,
     "metadata": {},
     "output_type": "execute_result"
    }
   ],
   "source": [
    "torch.cuda.is_available()\n",
    "torch.cuda.device_count()"
   ]
  },
  {
   "cell_type": "markdown",
   "id": "d9ad62f8",
   "metadata": {},
   "source": [
    "### Understanding Tensors"
   ]
  },
  {
   "cell_type": "code",
   "execution_count": 29,
   "id": "5f0656cb",
   "metadata": {},
   "outputs": [
    {
     "name": "stdout",
     "output_type": "stream",
     "text": [
      "The tensor is of 0 dim\n"
     ]
    }
   ],
   "source": [
    "# scalar - 0 dim tensor\n",
    "scalar = torch.tensor(6)\n",
    "print(f\"The tensor is of {scalar.ndim} dim\")"
   ]
  },
  {
   "cell_type": "code",
   "execution_count": 30,
   "id": "c5b571df",
   "metadata": {},
   "outputs": [
    {
     "data": {
      "text/plain": [
       "6"
      ]
     },
     "execution_count": 30,
     "metadata": {},
     "output_type": "execute_result"
    }
   ],
   "source": [
    "scalar.item() # retrieves the number"
   ]
  },
  {
   "cell_type": "code",
   "execution_count": 31,
   "id": "62105fd3",
   "metadata": {},
   "outputs": [
    {
     "data": {
      "text/plain": [
       "torch.Size([2])"
      ]
     },
     "execution_count": 31,
     "metadata": {},
     "output_type": "execute_result"
    }
   ],
   "source": [
    "vector = torch.tensor([2,3])\n",
    "vector.shape         # hint: the num of dims is the num of brackets"
   ]
  },
  {
   "cell_type": "code",
   "execution_count": 32,
   "id": "e930d9de",
   "metadata": {},
   "outputs": [
    {
     "data": {
      "text/plain": [
       "torch.Size([2, 2])"
      ]
     },
     "execution_count": 32,
     "metadata": {},
     "output_type": "execute_result"
    }
   ],
   "source": [
    "mat = torch.tensor([[1,2],\n",
    "                    [3,4]])\n",
    "mat.shape"
   ]
  },
  {
   "cell_type": "code",
   "execution_count": 33,
   "id": "d839ff8e",
   "metadata": {},
   "outputs": [
    {
     "data": {
      "text/plain": [
       "torch.Size([1, 2, 3])"
      ]
     },
     "execution_count": 33,
     "metadata": {},
     "output_type": "execute_result"
    }
   ],
   "source": [
    "ten = torch.tensor([[[1, 2, 2],\n",
    "                    [3, 4, 3]]])\n",
    "ten.shape  # goes from outer to inner"
   ]
  },
  {
   "cell_type": "markdown",
   "id": "99a978d7",
   "metadata": {},
   "source": [
    "Reminder: Tensor is an n dimsional array of numbers. So matrix, vectors, scalars are also tensors of different dims"
   ]
  },
  {
   "cell_type": "code",
   "execution_count": 34,
   "id": "b143fc44",
   "metadata": {},
   "outputs": [
    {
     "data": {
      "text/plain": [
       "tensor([[[1, 2, 2],\n",
       "         [3, 4, 3]]])"
      ]
     },
     "execution_count": 34,
     "metadata": {},
     "output_type": "execute_result"
    }
   ],
   "source": [
    "ten"
   ]
  },
  {
   "cell_type": "code",
   "execution_count": 35,
   "id": "f796ff14",
   "metadata": {},
   "outputs": [
    {
     "data": {
      "text/plain": [
       "tensor([[0.8549, 0.5509, 0.2868],\n",
       "        [0.2063, 0.4451, 0.3593],\n",
       "        [0.7204, 0.0731, 0.9699]])"
      ]
     },
     "execution_count": 35,
     "metadata": {},
     "output_type": "execute_result"
    }
   ],
   "source": [
    "# creating a random tensor\n",
    "rand_T = torch.rand((3,3))\n",
    "rand_T"
   ]
  },
  {
   "cell_type": "code",
   "execution_count": 36,
   "id": "8e887aeb",
   "metadata": {},
   "outputs": [
    {
     "data": {
      "text/plain": [
       "tensor([[[0.1078, 0.8829, 0.4132],\n",
       "         [0.7572, 0.6948, 0.5209],\n",
       "         [0.5932, 0.8797, 0.6286],\n",
       "         ...,\n",
       "         [0.4758, 0.5401, 0.3012],\n",
       "         [0.3814, 0.6282, 0.5399],\n",
       "         [0.1416, 0.1422, 0.7317]],\n",
       "\n",
       "        [[0.8814, 0.9635, 0.8055],\n",
       "         [0.7877, 0.7096, 0.8370],\n",
       "         [0.3718, 0.5773, 0.7018],\n",
       "         ...,\n",
       "         [0.6769, 0.7426, 0.2120],\n",
       "         [0.7741, 0.9166, 0.7711],\n",
       "         [0.9027, 0.2824, 0.7119]],\n",
       "\n",
       "        [[0.3094, 0.3756, 0.9827],\n",
       "         [0.4630, 0.5218, 0.5351],\n",
       "         [0.5565, 0.2825, 0.8671],\n",
       "         ...,\n",
       "         [0.2341, 0.4463, 0.2069],\n",
       "         [0.2815, 0.3703, 0.5340],\n",
       "         [0.2222, 0.2361, 0.1357]],\n",
       "\n",
       "        ...,\n",
       "\n",
       "        [[0.0755, 0.1923, 0.7472],\n",
       "         [0.7093, 0.5914, 0.9732],\n",
       "         [0.8207, 0.8037, 0.7533],\n",
       "         ...,\n",
       "         [0.6247, 0.3102, 0.2898],\n",
       "         [0.7181, 0.7118, 0.3500],\n",
       "         [0.6217, 0.9026, 0.6079]],\n",
       "\n",
       "        [[0.2616, 0.1576, 0.5076],\n",
       "         [0.2175, 0.5825, 0.9111],\n",
       "         [0.8138, 0.5473, 0.8116],\n",
       "         ...,\n",
       "         [0.9840, 0.5429, 0.6777],\n",
       "         [0.5080, 0.3088, 0.0440],\n",
       "         [0.1244, 0.3556, 0.2493]],\n",
       "\n",
       "        [[0.5172, 0.6276, 0.6571],\n",
       "         [0.3422, 0.1095, 0.7373],\n",
       "         [0.2784, 0.6729, 0.6943],\n",
       "         ...,\n",
       "         [0.4881, 0.0992, 0.6153],\n",
       "         [0.3405, 0.4398, 0.3326],\n",
       "         [0.5570, 0.9471, 0.4883]]])"
      ]
     },
     "execution_count": 36,
     "metadata": {},
     "output_type": "execute_result"
    }
   ],
   "source": [
    "IM = torch.rand((224, 224, 3))\n",
    "IM"
   ]
  },
  {
   "cell_type": "code",
   "execution_count": 37,
   "id": "3f0e9df9",
   "metadata": {},
   "outputs": [
    {
     "name": "stdout",
     "output_type": "stream",
     "text": [
      "tensor([  0,  20,  40,  60,  80, 100])\n"
     ]
    }
   ],
   "source": [
    "tem = torch.arange(0, 101, 20, dtype = None)\n",
    "print(tem)\n",
    "co = torch.ones_like(tem)"
   ]
  },
  {
   "cell_type": "code",
   "execution_count": 38,
   "id": "02d98760",
   "metadata": {},
   "outputs": [
    {
     "data": {
      "text/plain": [
       "tensor([1, 1, 1, 1, 1, 1])"
      ]
     },
     "execution_count": 38,
     "metadata": {},
     "output_type": "execute_result"
    }
   ],
   "source": [
    "co"
   ]
  },
  {
   "cell_type": "markdown",
   "id": "41cbce93",
   "metadata": {},
   "source": [
    "1. torch.reshape(input, shape)\tReshapes input to shape (if compatible), can also use torch.Tensor.reshape().\n",
    "\n",
    "2. Tensor.view(shape)\tReturns a view of the original tensor in a different shape but shares the same data as the original tensor.\n",
    "\n",
    "3. torch.stack(tensors, dim=0)\tConcatenates a sequence of tensors along a new dimension (dim), all tensors must be same size.\n",
    "\n",
    "4. torch.squeeze(input)\tSqueezes input to remove all the dimenions with value 1.\n",
    "\n",
    "5. torch.unsqueeze(input, dim)\tReturns input with a dimension value of 1 added at dim.\n",
    "torch.permute(input, dims)\n",
    "\n",
    "6. torch.permute(input, dims) Rearrange the axis order"
   ]
  },
  {
   "cell_type": "code",
   "execution_count": 39,
   "id": "d5c9f826",
   "metadata": {},
   "outputs": [
    {
     "data": {
      "text/plain": [
       "torch.Size([10])"
      ]
     },
     "execution_count": 39,
     "metadata": {},
     "output_type": "execute_result"
    }
   ],
   "source": [
    "x = torch.arange(1, 20, 2)\n",
    "x.shape"
   ]
  },
  {
   "cell_type": "code",
   "execution_count": 40,
   "id": "ac31fb80",
   "metadata": {},
   "outputs": [],
   "source": [
    "x = x.reshape(5,2)"
   ]
  },
  {
   "cell_type": "code",
   "execution_count": 41,
   "id": "3f7bdb32",
   "metadata": {},
   "outputs": [
    {
     "data": {
      "text/plain": [
       "tensor([[ 1],\n",
       "        [ 3],\n",
       "        [ 5],\n",
       "        [ 7],\n",
       "        [ 9],\n",
       "        [11],\n",
       "        [13],\n",
       "        [15],\n",
       "        [17],\n",
       "        [19]])"
      ]
     },
     "execution_count": 41,
     "metadata": {},
     "output_type": "execute_result"
    }
   ],
   "source": [
    "z = x.view(10,1)        # z is just a new view of x and changing z changes x\n",
    "z"
   ]
  },
  {
   "cell_type": "code",
   "execution_count": 42,
   "id": "cefe2865",
   "metadata": {},
   "outputs": [
    {
     "name": "stdout",
     "output_type": "stream",
     "text": [
      "Before squeeze the dims was torch.Size([10, 1])\n",
      "after sqeeze the dims: torch.Size([10]), the singles dims were removed\n"
     ]
    }
   ],
   "source": [
    "print(f\"Before squeeze the dims was {z.shape}\")\n",
    "\n",
    "k = z.squeeze()     # removes single dims\n",
    "print(f\"after sqeeze the dims: {k.shape}, the singles dims were removed\")"
   ]
  },
  {
   "cell_type": "code",
   "execution_count": 43,
   "id": "f02aae3b",
   "metadata": {},
   "outputs": [
    {
     "name": "stdout",
     "output_type": "stream",
     "text": [
      "Before permuting tensor([[ 1,  3],\n",
      "        [ 5,  7],\n",
      "        [ 9, 11],\n",
      "        [13, 15],\n",
      "        [17, 19]])\n",
      "\n",
      "after permuting tensor([[ 1,  5,  9, 13, 17],\n",
      "        [ 3,  7, 11, 15, 19]])\n"
     ]
    }
   ],
   "source": [
    "print(f\"Before permuting {x}\\n\")\n",
    "\n",
    "\n",
    "print(f\"after permuting {x.permute(1,0)}\")"
   ]
  },
  {
   "cell_type": "code",
   "execution_count": null,
   "id": "346516c7",
   "metadata": {},
   "outputs": [],
   "source": []
  },
  {
   "cell_type": "code",
   "execution_count": null,
   "id": "2bb823b3",
   "metadata": {},
   "outputs": [],
   "source": []
  },
  {
   "cell_type": "markdown",
   "id": "b67773a1",
   "metadata": {},
   "source": [
    "### Practise"
   ]
  },
  {
   "cell_type": "code",
   "execution_count": 44,
   "id": "8ae34721",
   "metadata": {},
   "outputs": [],
   "source": [
    "torch.manual_seed(seed= 0)\n",
    "\n",
    "\n",
    "# Create a random tensor with shape (7, 7)\n",
    "T1 = torch.rand((7,7))\n",
    "T1.shape\n",
    "\n",
    "T2 = torch.rand((1,7))"
   ]
  },
  {
   "cell_type": "code",
   "execution_count": 45,
   "id": "36a9bc52",
   "metadata": {},
   "outputs": [],
   "source": [
    "mm = torch.matmul(T1, T2.T)"
   ]
  },
  {
   "cell_type": "code",
   "execution_count": 46,
   "id": "245e730f",
   "metadata": {},
   "outputs": [
    {
     "data": {
      "text/plain": [
       "tensor([[1.8542],\n",
       "        [1.9611],\n",
       "        [2.2884],\n",
       "        [3.0481],\n",
       "        [1.7067],\n",
       "        [2.5290],\n",
       "        [1.7989]])"
      ]
     },
     "execution_count": 46,
     "metadata": {},
     "output_type": "execute_result"
    }
   ],
   "source": [
    "mm"
   ]
  },
  {
   "cell_type": "code",
   "execution_count": 47,
   "id": "fac04417",
   "metadata": {},
   "outputs": [
    {
     "name": "stdout",
     "output_type": "stream",
     "text": [
      "The mm: tensor([[0.3647, 0.4709],\n",
      "        [0.5184, 0.5617]], device='cuda:0')\n"
     ]
    }
   ],
   "source": [
    "# seeding GPU\n",
    "torch.manual_seed(1234)\n",
    "\n",
    "R1 = torch.rand(size = (2,3)).to(\"cuda\")\n",
    "R2 = torch.rand((2,3)).to(\"cuda\")\n",
    "\n",
    "mm2 = torch.matmul(R1, R2.T)\n",
    "print(f\"The mm: {mm2}\")\n",
    "\n"
   ]
  },
  {
   "cell_type": "code",
   "execution_count": 48,
   "id": "d1cb2cce",
   "metadata": {},
   "outputs": [
    {
     "data": {
      "text/plain": [
       "tensor(0.5617, device='cuda:0')"
      ]
     },
     "execution_count": 48,
     "metadata": {},
     "output_type": "execute_result"
    }
   ],
   "source": [
    "mm2.max()\n"
   ]
  },
  {
   "cell_type": "code",
   "execution_count": 49,
   "id": "feadf5fe",
   "metadata": {},
   "outputs": [
    {
     "data": {
      "text/plain": [
       "tensor(0, device='cuda:0')"
      ]
     },
     "execution_count": 49,
     "metadata": {},
     "output_type": "execute_result"
    }
   ],
   "source": [
    "mm2.argmin()"
   ]
  },
  {
   "cell_type": "code",
   "execution_count": 50,
   "id": "11bb7cc2",
   "metadata": {},
   "outputs": [],
   "source": [
    "torch.manual_seed(7)\n",
    "X = torch.rand((1, 1, 1, 10))\n",
    "m = X.squeeze()"
   ]
  },
  {
   "cell_type": "code",
   "execution_count": 51,
   "id": "02cddf3f",
   "metadata": {},
   "outputs": [
    {
     "data": {
      "text/plain": [
       "tensor([0.5349, 0.1988, 0.6592, 0.6569, 0.2328, 0.4251, 0.2071, 0.6297, 0.3653,\n",
       "        0.8513])"
      ]
     },
     "execution_count": 51,
     "metadata": {},
     "output_type": "execute_result"
    }
   ],
   "source": [
    "m"
   ]
  },
  {
   "cell_type": "code",
   "execution_count": 52,
   "id": "2631d5cc",
   "metadata": {},
   "outputs": [
    {
     "name": "stdout",
     "output_type": "stream",
     "text": [
      "first tensor tensor([[[[0.5349, 0.1988, 0.6592, 0.6569, 0.2328, 0.4251, 0.2071, 0.6297,\n",
      "           0.3653, 0.8513]]]]) and it's shape torch.Size([1, 1, 1, 10])\n",
      "second tensor tensor([0.5349, 0.1988, 0.6592, 0.6569, 0.2328, 0.4251, 0.2071, 0.6297, 0.3653,\n",
      "        0.8513]) and it's shape torch.Size([10])\n"
     ]
    }
   ],
   "source": [
    "print(f\"first tensor {X} and it's shape {X.shape}\")\n",
    "print(f\"second tensor {m} and it's shape {m.shape}\")"
   ]
  },
  {
   "cell_type": "markdown",
   "id": "952c3ed1",
   "metadata": {},
   "source": []
  },
  {
   "cell_type": "markdown",
   "id": "cb493f85",
   "metadata": {},
   "source": []
  }
 ],
 "metadata": {
  "kernelspec": {
   "display_name": "DL",
   "language": "python",
   "name": "python3"
  },
  "language_info": {
   "codemirror_mode": {
    "name": "ipython",
    "version": 3
   },
   "file_extension": ".py",
   "mimetype": "text/x-python",
   "name": "python",
   "nbconvert_exporter": "python",
   "pygments_lexer": "ipython3",
   "version": "3.11.0"
  }
 },
 "nbformat": 4,
 "nbformat_minor": 5
}
