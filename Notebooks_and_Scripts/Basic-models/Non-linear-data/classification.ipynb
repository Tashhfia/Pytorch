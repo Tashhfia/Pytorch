{
 "cells": [
  {
   "cell_type": "code",
   "execution_count": 1,
   "id": "d11ad843",
   "metadata": {},
   "outputs": [
    {
     "name": "stdout",
     "output_type": "stream",
     "text": [
      "Using cuda device\n"
     ]
    }
   ],
   "source": [
    "import torch\n",
    "from torch import nn\n",
    "import numpy as np\n",
    "import matplotlib.pyplot as plt\n",
    "import pandas as pd\n",
    "from sklearn.datasets import make_circles\n",
    "from sklearn.model_selection import train_test_split\n",
    "\n",
    "device = \"cuda\" if torch.cuda.is_available() else \"cpu\"\n",
    "print(f\"Using {device} device\")\n"
   ]
  },
  {
   "cell_type": "markdown",
   "id": "c15f1425",
   "metadata": {},
   "source": [
    "### Create dataset"
   ]
  },
  {
   "cell_type": "code",
   "execution_count": 2,
   "id": "f16c58fe",
   "metadata": {},
   "outputs": [],
   "source": [
    "samples = 1500\n",
    "X, Y = make_circles(samples, noise = 0.04)"
   ]
  },
  {
   "cell_type": "code",
   "execution_count": 3,
   "id": "c026b52c",
   "metadata": {},
   "outputs": [
    {
     "data": {
      "text/plain": [
       "((1500, 2), (1500,))"
      ]
     },
     "execution_count": 3,
     "metadata": {},
     "output_type": "execute_result"
    }
   ],
   "source": [
    "X.shape, Y.shape"
   ]
  },
  {
   "cell_type": "code",
   "execution_count": 4,
   "id": "ae2f567d",
   "metadata": {},
   "outputs": [],
   "source": [
    "# convert to pandas dataframe\n",
    "df = pd.DataFrame({'X1': X[:, 0], 'X2': X[:, 1], 'Label': Y})"
   ]
  },
  {
   "cell_type": "code",
   "execution_count": 5,
   "id": "cbdd38ce",
   "metadata": {},
   "outputs": [
    {
     "data": {
      "text/html": [
       "<div>\n",
       "<style scoped>\n",
       "    .dataframe tbody tr th:only-of-type {\n",
       "        vertical-align: middle;\n",
       "    }\n",
       "\n",
       "    .dataframe tbody tr th {\n",
       "        vertical-align: top;\n",
       "    }\n",
       "\n",
       "    .dataframe thead th {\n",
       "        text-align: right;\n",
       "    }\n",
       "</style>\n",
       "<table border=\"1\" class=\"dataframe\">\n",
       "  <thead>\n",
       "    <tr style=\"text-align: right;\">\n",
       "      <th></th>\n",
       "      <th>X1</th>\n",
       "      <th>X2</th>\n",
       "      <th>Label</th>\n",
       "    </tr>\n",
       "  </thead>\n",
       "  <tbody>\n",
       "    <tr>\n",
       "      <th>0</th>\n",
       "      <td>-0.517951</td>\n",
       "      <td>-0.838801</td>\n",
       "      <td>0</td>\n",
       "    </tr>\n",
       "    <tr>\n",
       "      <th>1</th>\n",
       "      <td>0.196409</td>\n",
       "      <td>-0.755971</td>\n",
       "      <td>1</td>\n",
       "    </tr>\n",
       "    <tr>\n",
       "      <th>2</th>\n",
       "      <td>-1.022807</td>\n",
       "      <td>-0.220374</td>\n",
       "      <td>0</td>\n",
       "    </tr>\n",
       "    <tr>\n",
       "      <th>3</th>\n",
       "      <td>-1.006099</td>\n",
       "      <td>0.022292</td>\n",
       "      <td>0</td>\n",
       "    </tr>\n",
       "    <tr>\n",
       "      <th>4</th>\n",
       "      <td>-0.338342</td>\n",
       "      <td>0.708308</td>\n",
       "      <td>1</td>\n",
       "    </tr>\n",
       "  </tbody>\n",
       "</table>\n",
       "</div>"
      ],
      "text/plain": [
       "         X1        X2  Label\n",
       "0 -0.517951 -0.838801      0\n",
       "1  0.196409 -0.755971      1\n",
       "2 -1.022807 -0.220374      0\n",
       "3 -1.006099  0.022292      0\n",
       "4 -0.338342  0.708308      1"
      ]
     },
     "execution_count": 5,
     "metadata": {},
     "output_type": "execute_result"
    }
   ],
   "source": [
    "df.head()"
   ]
  },
  {
   "cell_type": "code",
   "execution_count": 6,
   "id": "55c14e0f",
   "metadata": {},
   "outputs": [
    {
     "data": {
      "text/plain": [
       "Label\n",
       "0    750\n",
       "1    750\n",
       "Name: count, dtype: int64"
      ]
     },
     "execution_count": 6,
     "metadata": {},
     "output_type": "execute_result"
    }
   ],
   "source": [
    "# check the distribution of labels\n",
    "df.Label.value_counts()"
   ]
  },
  {
   "cell_type": "markdown",
   "id": "dd9f25be",
   "metadata": {},
   "source": [
    "Nicely balanced dataset, no rare labels."
   ]
  },
  {
   "cell_type": "code",
   "execution_count": 7,
   "id": "7313289c",
   "metadata": {},
   "outputs": [
    {
     "data": {
      "text/plain": [
       "<matplotlib.collections.PathCollection at 0x2636f151e90>"
      ]
     },
     "execution_count": 7,
     "metadata": {},
     "output_type": "execute_result"
    },
    {
     "data": {
      "image/png": "[encoded data removed]",
      "text/plain": [
       "<Figure size 640x480 with 1 Axes>"
      ]
     },
     "metadata": {},
     "output_type": "display_data"
    }
   ],
   "source": [
    "plt.scatter(x = df['X1'], y = df['X2'], c = df[\"Label\"])"
   ]
  },
  {
   "cell_type": "code",
   "execution_count": 8,
   "id": "79199111",
   "metadata": {},
   "outputs": [
    {
     "data": {
      "text/plain": [
       "numpy.ndarray"
      ]
     },
     "execution_count": 8,
     "metadata": {},
     "output_type": "execute_result"
    }
   ],
   "source": [
    "type(X)"
   ]
  },
  {
   "cell_type": "code",
   "execution_count": 9,
   "id": "11cc85bf",
   "metadata": {},
   "outputs": [],
   "source": [
    "# convert to torch tensors\n",
    "X = torch.from_numpy(X).type(torch.FloatTensor)\n",
    "Y = torch.from_numpy(Y).type(torch.FloatTensor)"
   ]
  },
  {
   "cell_type": "code",
   "execution_count": 10,
   "id": "0bd71b68",
   "metadata": {},
   "outputs": [
    {
     "data": {
      "text/plain": [
       "(torch.Tensor, torch.Tensor)"
      ]
     },
     "execution_count": 10,
     "metadata": {},
     "output_type": "execute_result"
    }
   ],
   "source": [
    "type(X), type(Y)"
   ]
  },
  {
   "cell_type": "code",
   "execution_count": 11,
   "id": "1cc9cff0",
   "metadata": {},
   "outputs": [],
   "source": [
    "train_X, test_X, train_Y, test_Y = train_test_split(X, Y,\n",
    "                                                    test_size=.20,\n",
    "                                                    random_state=42)"
   ]
  },
  {
   "cell_type": "code",
   "execution_count": 12,
   "id": "9ab6bda4",
   "metadata": {},
   "outputs": [
    {
     "data": {
      "text/plain": [
       "(tensor([[-0.7328, -0.1340],\n",
       "         [-0.4816,  0.9337],\n",
       "         [-0.5249, -0.6351],\n",
       "         [-0.6424, -0.5532],\n",
       "         [-0.0653, -0.9160]]),\n",
       " tensor([1., 0., 1., 1., 0.]))"
      ]
     },
     "execution_count": 12,
     "metadata": {},
     "output_type": "execute_result"
    }
   ],
   "source": [
    "train_X[:5], train_Y[:5]"
   ]
  },
  {
   "cell_type": "markdown",
   "id": "a578cfc0",
   "metadata": {},
   "source": [
    "### Build the model"
   ]
  },
  {
   "cell_type": "code",
   "execution_count": 13,
   "id": "c795565f",
   "metadata": {},
   "outputs": [
    {
     "data": {
      "text/plain": [
       "OrderedDict([('layer_1.weight',\n",
       "              tensor([[-0.4740,  0.5605],\n",
       "                      [-0.4608,  0.5358],\n",
       "                      [ 0.2029,  0.0872],\n",
       "                      [-0.5102, -0.1036],\n",
       "                      [ 0.4110,  0.0525],\n",
       "                      [-0.6899, -0.6618]], device='cuda:0')),\n",
       "             ('layer_1.bias',\n",
       "              tensor([-0.1847, -0.4687, -0.6517, -0.1653, -0.1402,  0.1980], device='cuda:0')),\n",
       "             ('layer_2.weight',\n",
       "              tensor([[-0.0645,  0.0262, -0.1598,  0.2619,  0.2391,  0.0013]],\n",
       "                     device='cuda:0')),\n",
       "             ('layer_2.bias', tensor([-0.0318], device='cuda:0'))])"
      ]
     },
     "execution_count": 13,
     "metadata": {},
     "output_type": "execute_result"
    }
   ],
   "source": [
    "class CircularLinNN(nn.Module):\n",
    "\n",
    "    def __init__(self):\n",
    "        super().__init__()\n",
    "        self.layer_1 = nn.Linear(in_features=2, out_features= 6)\n",
    "        self.layer_2 = nn.Linear(in_features=6, out_features=1)\n",
    "\n",
    "    def forward(self, X):\n",
    "        return self.layer_2(self.layer_1(X))\n",
    "    \n",
    "# create instance and load on device\n",
    "model_C = CircularLinNN().to(device)\n",
    "model_C.state_dict()"
   ]
  },
  {
   "cell_type": "code",
   "execution_count": 14,
   "id": "683547d9",
   "metadata": {},
   "outputs": [],
   "source": [
    "# alternative way of instatiating model\n",
    "model_seq = nn.Sequential(\n",
    "    nn.Linear(in_features=2,out_features=6),\n",
    "    nn.Linear(in_features=6, out_features=1)\n",
    ").to(device)"
   ]
  },
  {
   "cell_type": "code",
   "execution_count": 15,
   "id": "d84a1113",
   "metadata": {},
   "outputs": [
    {
     "data": {
      "text/plain": [
       "OrderedDict([('0.weight',\n",
       "              tensor([[ 0.0180, -0.2590],\n",
       "                      [-0.4685,  0.0738],\n",
       "                      [-0.4388,  0.2433],\n",
       "                      [ 0.1544, -0.2777],\n",
       "                      [ 0.0757, -0.5055],\n",
       "                      [ 0.6510,  0.1345]], device='cuda:0')),\n",
       "             ('0.bias',\n",
       "              tensor([-0.6994, -0.1568, -0.3026, -0.1328, -0.4912, -0.5507], device='cuda:0')),\n",
       "             ('1.weight',\n",
       "              tensor([[-0.2854, -0.3688,  0.3493, -0.0340,  0.2034,  0.3619]],\n",
       "                     device='cuda:0')),\n",
       "             ('1.bias', tensor([-0.0133], device='cuda:0'))])"
      ]
     },
     "execution_count": 15,
     "metadata": {},
     "output_type": "execute_result"
    }
   ],
   "source": [
    "model_seq.state_dict()"
   ]
  },
  {
   "cell_type": "markdown",
   "id": "c4b276da",
   "metadata": {},
   "source": [
    "So we get similar outcomes but the first approach is a lot more customizable"
   ]
  },
  {
   "cell_type": "markdown",
   "id": "1592f0fb",
   "metadata": {},
   "source": [
    "### Make preds with untrained model"
   ]
  },
  {
   "cell_type": "code",
   "execution_count": 14,
   "id": "6cf237cf",
   "metadata": {},
   "outputs": [],
   "source": [
    "with torch.inference_mode():\n",
    "    pred_Y = model_C(test_X.to(device))     # never forget to send to the device"
   ]
  },
  {
   "cell_type": "code",
   "execution_count": 15,
   "id": "32fb59ec",
   "metadata": {},
   "outputs": [
    {
     "data": {
      "text/plain": [
       "(300, 300)"
      ]
     },
     "execution_count": 15,
     "metadata": {},
     "output_type": "execute_result"
    }
   ],
   "source": [
    "len(pred_Y), len(test_Y)"
   ]
  },
  {
   "cell_type": "code",
   "execution_count": 16,
   "id": "2fd87561",
   "metadata": {},
   "outputs": [
    {
     "data": {
      "text/plain": [
       "(tensor([[ 0.0336],\n",
       "         [ 0.0640],\n",
       "         [ 0.0446],\n",
       "         [-0.0441],\n",
       "         [-0.0313]], device='cuda:0'),\n",
       " tensor([0., 0., 0., 1., 0.]))"
      ]
     },
     "execution_count": 16,
     "metadata": {},
     "output_type": "execute_result"
    }
   ],
   "source": [
    "pred_Y[:5], test_Y[:5]"
   ]
  },
  {
   "cell_type": "markdown",
   "id": "efa8bd1a",
   "metadata": {},
   "source": [
    "Completely wrong outcomes!!"
   ]
  },
  {
   "cell_type": "markdown",
   "id": "a8524646",
   "metadata": {},
   "source": [
    "### Training the model"
   ]
  },
  {
   "cell_type": "code",
   "execution_count": 18,
   "id": "740f5a01",
   "metadata": {},
   "outputs": [],
   "source": [
    "loss_func = nn.BCEWithLogitsLoss()    # BCE + Sigmoid\n",
    "opti = torch.optim.SGD(params= model_C.parameters(), lr=.01)\n",
    "\n",
    "# evaluation metrics\n",
    "\n",
    "def accuracy_func(y_label, y_pred):\n",
    "    # how many of the preds are correct\n",
    "    # .item() → convert tensor scalar to Python number\n",
    "    return (torch.eq(y_label, y_pred).sum().item()  / len(y_pred)) * 100"
   ]
  },
  {
   "cell_type": "code",
   "execution_count": 19,
   "id": "e15cfc0a",
   "metadata": {},
   "outputs": [
    {
     "data": {
      "text/plain": [
       "300"
      ]
     },
     "execution_count": 19,
     "metadata": {},
     "output_type": "execute_result"
    }
   ],
   "source": [
    "model_C.eval()\n",
    "with torch.inference_mode():\n",
    "    # raw logit -> out from linear transformation\n",
    "    y = model_C(test_X.to(device))\n",
    "    # convert to probs\n",
    "    y = torch.round(torch.sigmoid(y)).squeeze()\n",
    "len(y)"
   ]
  },
  {
   "cell_type": "code",
   "execution_count": 20,
   "id": "38eb43c3",
   "metadata": {},
   "outputs": [
    {
     "data": {
      "text/plain": [
       "300"
      ]
     },
     "execution_count": 20,
     "metadata": {},
     "output_type": "execute_result"
    }
   ],
   "source": [
    "len(test_Y)"
   ]
  },
  {
   "cell_type": "code",
   "execution_count": 21,
   "id": "d41d47a4",
   "metadata": {},
   "outputs": [
    {
     "name": "stdout",
     "output_type": "stream",
     "text": [
      "Epoch: 0 | Loss: 0.69361, Accuracy: 0.00% | Test loss: 0.69294, Test acc: 50.00%\n",
      "Epoch: 10 | Loss: 0.69360, Accuracy: 0.00% | Test loss: 0.69295, Test acc: 49.67%\n",
      "Epoch: 20 | Loss: 0.69358, Accuracy: 0.00% | Test loss: 0.69296, Test acc: 49.67%\n",
      "Epoch: 30 | Loss: 0.69356, Accuracy: 0.00% | Test loss: 0.69297, Test acc: 50.00%\n",
      "Epoch: 40 | Loss: 0.69355, Accuracy: 0.00% | Test loss: 0.69298, Test acc: 50.00%\n",
      "Epoch: 50 | Loss: 0.69354, Accuracy: 0.00% | Test loss: 0.69298, Test acc: 49.67%\n",
      "Epoch: 60 | Loss: 0.69352, Accuracy: 0.00% | Test loss: 0.69299, Test acc: 49.67%\n",
      "Epoch: 70 | Loss: 0.69351, Accuracy: 0.00% | Test loss: 0.69300, Test acc: 49.67%\n",
      "Epoch: 80 | Loss: 0.69350, Accuracy: 0.00% | Test loss: 0.69301, Test acc: 49.67%\n",
      "Epoch: 90 | Loss: 0.69348, Accuracy: 0.00% | Test loss: 0.69302, Test acc: 50.00%\n",
      "Epoch: 100 | Loss: 0.69347, Accuracy: 0.00% | Test loss: 0.69302, Test acc: 50.00%\n",
      "Epoch: 110 | Loss: 0.69346, Accuracy: 0.00% | Test loss: 0.69303, Test acc: 50.33%\n",
      "Epoch: 120 | Loss: 0.69345, Accuracy: 0.00% | Test loss: 0.69304, Test acc: 50.33%\n",
      "Epoch: 130 | Loss: 0.69344, Accuracy: 0.00% | Test loss: 0.69305, Test acc: 50.33%\n",
      "Epoch: 140 | Loss: 0.69342, Accuracy: 0.00% | Test loss: 0.69306, Test acc: 50.67%\n",
      "Epoch: 150 | Loss: 0.69341, Accuracy: 0.00% | Test loss: 0.69307, Test acc: 51.00%\n",
      "Epoch: 160 | Loss: 0.69340, Accuracy: 0.00% | Test loss: 0.69307, Test acc: 51.00%\n",
      "Epoch: 170 | Loss: 0.69339, Accuracy: 0.00% | Test loss: 0.69308, Test acc: 51.33%\n",
      "Epoch: 180 | Loss: 0.69338, Accuracy: 0.00% | Test loss: 0.69309, Test acc: 51.33%\n",
      "Epoch: 190 | Loss: 0.69338, Accuracy: 0.00% | Test loss: 0.69310, Test acc: 51.00%\n"
     ]
    }
   ],
   "source": [
    "epochs = 200\n",
    "\n",
    "# Put data to target device\n",
    "# must do this step !!\n",
    "train_X, train_Y = train_X.to(device), train_Y.to(device)\n",
    "test_X, test_Y = test_X.to(device), test_Y.to(device)\n",
    "\n",
    "\n",
    "for epoch in range(epochs):\n",
    "\n",
    "    model_C.train()\n",
    "    # 1. forward\n",
    "    train_logit = model_C(train_X).squeeze()\n",
    "    train_pred_Y = torch.round(torch.sigmoid(train_logit))\n",
    "\n",
    "    # 2. calculate loss and accuracy\n",
    "    train_loss = loss_func(train_logit, train_Y)\n",
    "    accuracy = accuracy_func(train_Y, pred_Y)\n",
    "\n",
    "    # 3. set optimizer grad to 0\n",
    "    opti.zero_grad()\n",
    "\n",
    "    # 4. backprop\n",
    "    train_loss.backward()\n",
    "\n",
    "    # 5. optimizer step\n",
    "    opti.step()\n",
    "\n",
    "    model_C.eval()\n",
    "    with torch.inference_mode():\n",
    "        test_logit = model_C(test_X).squeeze()\n",
    "        test_pred = torch.round(torch.sigmoid(test_logit))\n",
    "\n",
    "        test_loss = loss_func(test_logit, test_Y)\n",
    "        test_accuracy = accuracy_func(test_Y, test_pred)\n",
    "\n",
    "    if epoch % 10 == 0:\n",
    "        print(f\"Epoch: {epoch} | Loss: {train_loss:.5f}, Accuracy: {accuracy:.2f}% | Test loss: {test_loss:.5f}, Test acc: {test_accuracy:.2f}%\")\n",
    "\n",
    "        \n",
    "    "
   ]
  },
  {
   "cell_type": "markdown",
   "id": "95a70389",
   "metadata": {},
   "source": [
    "Without non linearity, the results are not really acceptable. Its as good as randomly guessing"
   ]
  },
  {
   "cell_type": "code",
   "execution_count": null,
   "id": "9bd7e144",
   "metadata": {},
   "outputs": [],
   "source": []
  }
 ],
 "metadata": {
  "kernelspec": {
   "display_name": "DL",
   "language": "python",
   "name": "python3"
  },
  "language_info": {
   "codemirror_mode": {
    "name": "ipython",
    "version": 3
   },
   "file_extension": ".py",
   "mimetype": "text/x-python",
   "name": "python",
   "nbconvert_exporter": "python",
   "pygments_lexer": "ipython3",
   "version": "3.11.0"
  }
 },
 "nbformat": 4,
 "nbformat_minor": 5
}
